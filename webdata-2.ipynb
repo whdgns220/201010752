{
 "cells": [
  {
   "cell_type": "markdown",
   "metadata": {},
   "source": [
    "# 웹데이터-2 : 웹파일을 가져와서 자료구조에 넣기"
   ]
  },
  {
   "cell_type": "code",
   "execution_count": 53,
   "metadata": {
    "collapsed": false
   },
   "outputs": [
    {
     "name": "stdout",
     "output_type": "stream",
     "text": [
      "25437\n"
     ]
    }
   ],
   "source": [
    "import urllib2\n",
    "url='http://archive.ics.uci.edu/ml/machine-learning-databases/horse-colic/horse-colic.data'\n",
    "res=urllib2.urlopen(url)\n",
    "html = res.read()\n",
    "res.close()\n",
    "print len(html)"
   ]
  },
  {
   "cell_type": "code",
   "execution_count": 54,
   "metadata": {
    "collapsed": false
   },
   "outputs": [
    {
     "name": "stdout",
     "output_type": "stream",
     "text": [
      "300 28\n",
      "['2', '1', '530101', '38.50', '66', '28', '3', '3', '?', '2', '5', '4', '4', '?', '?', '?', '3', '5', '45.00', '8.40', '?', '?', '2', '2', '11300', '00000', '00000', '2']\n"
     ]
    }
   ],
   "source": [
    "lines=html.splitlines()\n",
    "data=[]\n",
    "for line in lines:\n",
    "    data.append(line.split())\n",
    "print len(data), len(data[0])\n",
    "print data[0]"
   ]
  },
  {
   "cell_type": "code",
   "execution_count": 56,
   "metadata": {
    "collapsed": true
   },
   "outputs": [],
   "source": [
    "for i in range(0,len(data)):\n",
    "    if len(data[i]) != len(data[0]):\n",
    "        print \"wrong size at\", i"
   ]
  },
  {
   "cell_type": "code",
   "execution_count": 57,
   "metadata": {
    "collapsed": false
   },
   "outputs": [
    {
     "name": "stdout",
     "output_type": "stream",
     "text": [
      "38.50\n",
      "39.2\n",
      "38.30\n",
      "39.10\n",
      "37.30\n",
      "?\n",
      "37.90\n",
      "?\n",
      "?\n",
      "38.30\n",
      "38.10\n",
      "39.10\n",
      "37.20\n",
      "38.00\n",
      "38.2\n",
      "37.60\n",
      "?\n",
      "37.50\n",
      "37.60\n",
      "39.4\n"
     ]
    }
   ],
   "source": [
    "for i in range(0,20):\n",
    "    print data[i][3]"
   ]
  },
  {
   "cell_type": "code",
   "execution_count": 58,
   "metadata": {
    "collapsed": false
   },
   "outputs": [
    {
     "name": "stdout",
     "output_type": "stream",
     "text": [
      "0 38.50 38.5\n",
      "1 39.2 77.7\n",
      "2 38.30 116.0\n",
      "3 39.10 155.1\n",
      "4 37.30 192.4\n",
      "5 None\n",
      "6 37.90 230.3\n",
      "7 None\n",
      "8 None\n",
      "9 38.30 268.6\n",
      "10 38.10 306.7\n",
      "11 39.10 345.8\n",
      "12 37.20 383.0\n",
      "13 38.00 421.0\n",
      "14 38.2 459.2\n",
      "15 37.60 496.8\n",
      "16 None\n",
      "17 37.50 534.3\n",
      "18 37.60 571.9\n",
      "19 39.4 611.3\n",
      "count=16 sum=611.3 average=38.21\n"
     ]
    }
   ],
   "source": [
    "sum=0\n",
    "cnt=0\n",
    "for i in range(0,20):\n",
    "    val=data[i][3]\n",
    "    if val is '?':\n",
    "        print i,\"None\"\n",
    "    else:\n",
    "        sum+=float(val)\n",
    "        cnt+=1\n",
    "        print i,val, sum\n",
    "average=float(sum/cnt)\n",
    "print \"count={0} sum={1} average={2:2.2f}\".format(cnt,sum,average)"
   ]
  },
  {
   "cell_type": "code",
   "execution_count": null,
   "metadata": {
    "collapsed": true
   },
   "outputs": [],
   "source": []
  }
 ],
 "metadata": {
  "anaconda-cloud": {},
  "kernelspec": {
   "display_name": "Python [conda root]",
   "language": "python",
   "name": "conda-root-py"
  },
  "language_info": {
   "codemirror_mode": {
    "name": "ipython",
    "version": 2
   },
   "file_extension": ".py",
   "mimetype": "text/x-python",
   "name": "python",
   "nbconvert_exporter": "python",
   "pygments_lexer": "ipython2",
   "version": "2.7.12"
  }
 },
 "nbformat": 4,
 "nbformat_minor": 1
}
