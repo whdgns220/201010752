{
 "cells": [
  {
   "cell_type": "markdown",
   "metadata": {},
   "source": [
    "#  웹데이터-4 : 한국 포털사이트에서 노래제목을 검색"
   ]
  },
  {
   "cell_type": "markdown",
   "metadata": {},
   "source": [
    "# regex"
   ]
  },
  {
   "cell_type": "code",
   "execution_count": 60,
   "metadata": {
    "collapsed": true
   },
   "outputs": [],
   "source": [
    "import urllib\n",
    "keyword='비오는'\n",
    "f = urllib.urlopen(\"http://music.naver.com/search/search.nhn?query=\"+keyword+\"&x=0&y=0\")\n",
    "mydata = f.read();"
   ]
  },
  {
   "cell_type": "code",
   "execution_count": 61,
   "metadata": {
    "collapsed": false
   },
   "outputs": [
    {
     "name": "stdout",
     "output_type": "stream",
     "text": [
      "--- 비 오는 거리\n",
      "131002\n"
     ]
    }
   ],
   "source": [
    "pos = mydata.find(\"트랙 리스트\")\n",
    "if (pos>0):\n",
    "    pos = mydata.find(\"_title title NPI=\", pos);\n",
    "    pos = mydata.find(\"title=\",pos+20)\n",
    "    pos2 = mydata.find(\"\\\"\", pos+8)\n",
    "    print \"---\",mydata[pos+7:pos2]\n",
    "print len(mydata)"
   ]
  },
  {
   "cell_type": "code",
   "execution_count": 62,
   "metadata": {
    "collapsed": false
   },
   "outputs": [
    {
     "name": "stdout",
     "output_type": "stream",
     "text": [
      "title=\"검색어 입력\" value=\"비오는\" maxlength=\"50\" accesskey=\"s\"\n",
      "title=\"비오는날\" alt=\"비오는날\"\n",
      "title=\"비오는 금요일\" alt=\"비오는 금요일\"\n",
      "title=\"비 오는 거리\" ><span class=\"ellipsis\"\n",
      "title=\"1집 비오는 거리\" class=\"_album NPI=a:album,r:1,i:682\"><span class=\"ellipsis\"\n",
      "title=\"비오는 날 수채화\" ><span class=\"ellipsis\"\n",
      "title=\"비오는 날 수채화 1 OST\" class=\"_album NPI=a:album,r:2,i:33001\"><span class=\"ellipsis\"\n",
      "title=\"비 오는 날\" ><span class=\"ellipsis\"\n",
      "title=\"비 오는 날\" class=\"_album NPI=a:album,r:3,i:656486\"><span class=\"ellipsis\"\n",
      "title=\"비오는거리\" ><span class=\"ellipsis\"\n",
      "title=\"비오는 거리\" class=\"_album NPI=a:album,r:4,i:761336\"><span class=\"ellipsis\"\n",
      "title=\"비 오는 거리\" ><span class=\"ellipsis\"\n",
      "title=\"비 오는 거리\" class=\"_album NPI=a:album,r:5,i:442032\"><span class=\"ellipsis\"\n",
      "title=\"비오는 날 (Inst.)\" ><span class=\"ellipsis\"\n",
      "title=\"비오는 날\" class=\"_album NPI=a:album,r:6,i:649010\"><span class=\"ellipsis\"\n",
      "title=\"비오는날 (동요) (멜로디 MR)\" ><span class=\"ellipsis\"\n",
      "title=\"비오는 거리\" ><span class=\"ellipsis\"\n",
      "title=\"비오는 압구정\" ><span class=\"ellipsis\"\n",
      "title=\"김현주의 비오는 거리\" class=\"_album NPI=a:album,r:10,i:117082\"><span class=\"ellipsis\"\n",
      "title=\"비오는 밤에\" ><span class=\"ellipsis\"\n",
      "title=\"비 오는 거리  (Feat. 핫펠트)\" ><span class=\"ellipsis\"\n",
      "title=\"뉴에이지 연가 : 비 오는 날의 거리, 추억, 그리고 아름다운 재즈 피아노(Pop 올드 팝, 클래식, 영화 OST 베스트 연주 음악)\" class=\"_album NPI=a:album,r:13,i:636985\"><span class=\"ellipsis\"\n",
      "title=\"비오는 남산\" ><span class=\"ellipsis\"\n",
      "title=\"비오는 오솔길\" ><span class=\"ellipsis\"\n",
      "title=\"비오는 금요일\"\n",
      "title=\"비오는 금요일\" alt=\"비오는 금요일\" class=\"NPI=a:artist,r:,i:271713\"\n",
      "title=\"비 오는 날\"\n",
      "title=\"비 오는 날\"\n",
      "title=\"비오는 카페\"\n",
      "title=\"유ㄹish.1 - 비오는 거리\"\n",
      "title=\"비 오는 날\"\n",
      "title=\"비오는 압구정\"\n",
      "title=\"비오는 날에\"\n",
      "title=\"비오는 거리 (Feat. 단비)\"\n",
      "title=\"비오는 날의 수채화\"\n",
      "title=\"[cover] 비오는 거리 - 줄리\"\n",
      "title=\"비 오는 날의 분수\"\n",
      "title=\"비 오는 날, 생각나는 그 노래\"\n",
      "title=\"비오는 날 [데모]\"\n",
      "title=\"비오는 밤에\"\n"
     ]
    }
   ],
   "source": [
    "import re\n",
    "p=re.compile('title=\".*비.?오는.*\"')\n",
    "#res=p.search(data)\n",
    "res=p.findall(mydata)\n",
    "for item in res:\n",
    "    print item"
   ]
  },
  {
   "cell_type": "code",
   "execution_count": null,
   "metadata": {
    "collapsed": true
   },
   "outputs": [],
   "source": []
  }
 ],
 "metadata": {
  "anaconda-cloud": {},
  "kernelspec": {
   "display_name": "Python [conda root]",
   "language": "python",
   "name": "conda-root-py"
  },
  "language_info": {
   "codemirror_mode": {
    "name": "ipython",
    "version": 2
   },
   "file_extension": ".py",
   "mimetype": "text/x-python",
   "name": "python",
   "nbconvert_exporter": "python",
   "pygments_lexer": "ipython2",
   "version": "2.7.12"
  }
 },
 "nbformat": 4,
 "nbformat_minor": 1
}
